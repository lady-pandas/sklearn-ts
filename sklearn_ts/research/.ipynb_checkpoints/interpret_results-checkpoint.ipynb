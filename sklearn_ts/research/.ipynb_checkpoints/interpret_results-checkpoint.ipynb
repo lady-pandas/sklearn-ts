{
 "cells": [
  {
   "cell_type": "code",
   "execution_count": 476,
   "metadata": {
    "ExecuteTime": {
     "end_time": "2021-07-20T08:51:24.793852Z",
     "start_time": "2021-07-20T08:51:24.781888Z"
    }
   },
   "outputs": [],
   "source": [
    "def load_data(name):\n",
    "    performance = pd.read_parquet(f'{name}.parquet')\n",
    "    performance = performance[performance['id']<300]\n",
    "    performance = pd.concat([performance, pd.read_parquet(f'{name}3.parquet')])\n",
    "    return performance"
   ]
  },
  {
   "cell_type": "code",
   "execution_count": 477,
   "metadata": {
    "ExecuteTime": {
     "end_time": "2021-07-20T08:51:26.522210Z",
     "start_time": "2021-07-20T08:51:25.520009Z"
    }
   },
   "outputs": [],
   "source": [
    "import pandas as pd\n",
    "\n",
    "datasets = pd.concat([pd.read_parquet('sarima_AR_monthly.parquet'), pd.read_parquet('sarima_AR5_monthly.parquet'), pd.read_parquet('sarima_AR.parquet')])\n",
    "distr = datasets[['id', 'distr', 'mc', 'batch']].drop_duplicates()\n",
    "distr['model_details'] = distr['batch']\n",
    "\n",
    "errors = load_data('errors') #.merge(distr, on=['id', 'batch'], how='left')\n",
    "performance = load_data('performance').merge(distr, on=['id', 'model_details'], how='left')\n",
    "features = load_data('features').merge(distr, on=['id', 'model_details'], how='left')"
   ]
  },
  {
   "cell_type": "code",
   "execution_count": 478,
   "metadata": {
    "ExecuteTime": {
     "end_time": "2021-07-20T08:51:27.059142Z",
     "start_time": "2021-07-20T08:51:27.046141Z"
    }
   },
   "outputs": [],
   "source": [
    "#pd.read_parquet(f'errors3.parquet').merge(pd.read_parquet('sarima_AR5_monthly.parquet')[['id', 'distr', 'mc', 'batch']].drop_duplicates(), on=['id']).groupby(['batch', 'distr', 'error']).count()"
   ]
  },
  {
   "cell_type": "code",
   "execution_count": 479,
   "metadata": {
    "ExecuteTime": {
     "end_time": "2021-07-20T08:51:27.597833Z",
     "start_time": "2021-07-20T08:51:27.586289Z"
    }
   },
   "outputs": [],
   "source": [
    "#errors['error']"
   ]
  },
  {
   "cell_type": "markdown",
   "metadata": {},
   "source": [
    "# Prediction intervals"
   ]
  },
  {
   "cell_type": "code",
   "execution_count": 480,
   "metadata": {
    "ExecuteTime": {
     "end_time": "2021-07-20T08:51:28.381542Z",
     "start_time": "2021-07-20T08:51:28.353617Z"
    }
   },
   "outputs": [
    {
     "data": {
      "text/html": [
       "<div>\n",
       "<style scoped>\n",
       "    .dataframe tbody tr th:only-of-type {\n",
       "        vertical-align: middle;\n",
       "    }\n",
       "\n",
       "    .dataframe tbody tr th {\n",
       "        vertical-align: top;\n",
       "    }\n",
       "\n",
       "    .dataframe thead th {\n",
       "        text-align: right;\n",
       "    }\n",
       "</style>\n",
       "<table border=\"1\" class=\"dataframe\">\n",
       "  <thead>\n",
       "    <tr style=\"text-align: right;\">\n",
       "      <th></th>\n",
       "      <th>mape</th>\n",
       "      <th>pi</th>\n",
       "      <th>fold</th>\n",
       "      <th>n</th>\n",
       "      <th>is_normal</th>\n",
       "      <th>model</th>\n",
       "      <th>id</th>\n",
       "      <th>model_details</th>\n",
       "      <th>data</th>\n",
       "      <th>distr</th>\n",
       "      <th>mc</th>\n",
       "      <th>batch</th>\n",
       "    </tr>\n",
       "  </thead>\n",
       "  <tbody>\n",
       "    <tr>\n",
       "      <th>16894</th>\n",
       "      <td>0.067998</td>\n",
       "      <td>0.333333</td>\n",
       "      <td>4</td>\n",
       "      <td>39</td>\n",
       "      <td>True</td>\n",
       "      <td>RandomForestTimeSeriesModel</td>\n",
       "      <td>299</td>\n",
       "      <td>monthly5_3ahead</td>\n",
       "      <td>AR</td>\n",
       "      <td>tstud_infinite</td>\n",
       "      <td>99</td>\n",
       "      <td>monthly5_3ahead</td>\n",
       "    </tr>\n",
       "    <tr>\n",
       "      <th>16895</th>\n",
       "      <td>0.014669</td>\n",
       "      <td>1.000000</td>\n",
       "      <td>3</td>\n",
       "      <td>30</td>\n",
       "      <td>True</td>\n",
       "      <td>RandomForestTimeSeriesModel</td>\n",
       "      <td>299</td>\n",
       "      <td>monthly5_3ahead</td>\n",
       "      <td>AR</td>\n",
       "      <td>tstud_infinite</td>\n",
       "      <td>99</td>\n",
       "      <td>monthly5_3ahead</td>\n",
       "    </tr>\n",
       "    <tr>\n",
       "      <th>16896</th>\n",
       "      <td>0.003134</td>\n",
       "      <td>1.000000</td>\n",
       "      <td>2</td>\n",
       "      <td>21</td>\n",
       "      <td>True</td>\n",
       "      <td>RandomForestTimeSeriesModel</td>\n",
       "      <td>299</td>\n",
       "      <td>monthly5_3ahead</td>\n",
       "      <td>AR</td>\n",
       "      <td>tstud_infinite</td>\n",
       "      <td>99</td>\n",
       "      <td>monthly5_3ahead</td>\n",
       "    </tr>\n",
       "    <tr>\n",
       "      <th>16897</th>\n",
       "      <td>0.083087</td>\n",
       "      <td>0.333333</td>\n",
       "      <td>1</td>\n",
       "      <td>12</td>\n",
       "      <td>True</td>\n",
       "      <td>RandomForestTimeSeriesModel</td>\n",
       "      <td>299</td>\n",
       "      <td>monthly5_3ahead</td>\n",
       "      <td>AR</td>\n",
       "      <td>tstud_infinite</td>\n",
       "      <td>99</td>\n",
       "      <td>monthly5_3ahead</td>\n",
       "    </tr>\n",
       "    <tr>\n",
       "      <th>16898</th>\n",
       "      <td>0.025143</td>\n",
       "      <td>1.000000</td>\n",
       "      <td>test</td>\n",
       "      <td>141</td>\n",
       "      <td>False</td>\n",
       "      <td>RandomForestTimeSeriesModel</td>\n",
       "      <td>299</td>\n",
       "      <td>monthly5_3ahead</td>\n",
       "      <td>AR</td>\n",
       "      <td>tstud_infinite</td>\n",
       "      <td>99</td>\n",
       "      <td>monthly5_3ahead</td>\n",
       "    </tr>\n",
       "  </tbody>\n",
       "</table>\n",
       "</div>"
      ],
      "text/plain": [
       "           mape        pi  fold    n  is_normal                        model  \\\n",
       "16894  0.067998  0.333333     4   39       True  RandomForestTimeSeriesModel   \n",
       "16895  0.014669  1.000000     3   30       True  RandomForestTimeSeriesModel   \n",
       "16896  0.003134  1.000000     2   21       True  RandomForestTimeSeriesModel   \n",
       "16897  0.083087  0.333333     1   12       True  RandomForestTimeSeriesModel   \n",
       "16898  0.025143  1.000000  test  141      False  RandomForestTimeSeriesModel   \n",
       "\n",
       "        id    model_details data           distr  mc            batch  \n",
       "16894  299  monthly5_3ahead   AR  tstud_infinite  99  monthly5_3ahead  \n",
       "16895  299  monthly5_3ahead   AR  tstud_infinite  99  monthly5_3ahead  \n",
       "16896  299  monthly5_3ahead   AR  tstud_infinite  99  monthly5_3ahead  \n",
       "16897  299  monthly5_3ahead   AR  tstud_infinite  99  monthly5_3ahead  \n",
       "16898  299  monthly5_3ahead   AR  tstud_infinite  99  monthly5_3ahead  "
      ]
     },
     "execution_count": 480,
     "metadata": {},
     "output_type": "execute_result"
    }
   ],
   "source": [
    "performance.tail()"
   ]
  },
  {
   "cell_type": "code",
   "execution_count": 481,
   "metadata": {
    "ExecuteTime": {
     "end_time": "2021-07-20T08:51:29.198510Z",
     "start_time": "2021-07-20T08:51:29.108750Z"
    }
   },
   "outputs": [
    {
     "data": {
      "text/html": [
       "<div>\n",
       "<style scoped>\n",
       "    .dataframe tbody tr th:only-of-type {\n",
       "        vertical-align: middle;\n",
       "    }\n",
       "\n",
       "    .dataframe tbody tr th {\n",
       "        vertical-align: top;\n",
       "    }\n",
       "\n",
       "    .dataframe thead th {\n",
       "        text-align: right;\n",
       "    }\n",
       "</style>\n",
       "<table border=\"1\" class=\"dataframe\">\n",
       "  <thead>\n",
       "    <tr style=\"text-align: right;\">\n",
       "      <th></th>\n",
       "      <th>distr</th>\n",
       "      <th>normal</th>\n",
       "      <th>tstud_finite</th>\n",
       "      <th>tstud_infinite</th>\n",
       "    </tr>\n",
       "    <tr>\n",
       "      <th>batch</th>\n",
       "      <th>model</th>\n",
       "      <th></th>\n",
       "      <th></th>\n",
       "      <th></th>\n",
       "    </tr>\n",
       "  </thead>\n",
       "  <tbody>\n",
       "    <tr>\n",
       "      <th rowspan=\"2\" valign=\"top\">daily_7ahead</th>\n",
       "      <th>RandomForestTimeSeriesModel</th>\n",
       "      <td>0.797033</td>\n",
       "      <td>0.797473</td>\n",
       "      <td>0.790659</td>\n",
       "    </tr>\n",
       "    <tr>\n",
       "      <th>SARIMAXTimeSeriesModel</th>\n",
       "      <td>0.791597</td>\n",
       "      <td>0.905495</td>\n",
       "      <td>0.964945</td>\n",
       "    </tr>\n",
       "    <tr>\n",
       "      <th rowspan=\"2\" valign=\"top\">monthly5_3ahead</th>\n",
       "      <th>RandomForestTimeSeriesModel</th>\n",
       "      <td>0.766250</td>\n",
       "      <td>0.768333</td>\n",
       "      <td>0.713125</td>\n",
       "    </tr>\n",
       "    <tr>\n",
       "      <th>SARIMAXTimeSeriesModel</th>\n",
       "      <td>0.730000</td>\n",
       "      <td>0.840132</td>\n",
       "      <td>0.882092</td>\n",
       "    </tr>\n",
       "  </tbody>\n",
       "</table>\n",
       "</div>"
      ],
      "text/plain": [
       "distr                                          normal  tstud_finite  \\\n",
       "batch           model                                                 \n",
       "daily_7ahead    RandomForestTimeSeriesModel  0.797033      0.797473   \n",
       "                SARIMAXTimeSeriesModel       0.791597      0.905495   \n",
       "monthly5_3ahead RandomForestTimeSeriesModel  0.766250      0.768333   \n",
       "                SARIMAXTimeSeriesModel       0.730000      0.840132   \n",
       "\n",
       "distr                                        tstud_infinite  \n",
       "batch           model                                        \n",
       "daily_7ahead    RandomForestTimeSeriesModel        0.790659  \n",
       "                SARIMAXTimeSeriesModel             0.964945  \n",
       "monthly5_3ahead RandomForestTimeSeriesModel        0.713125  \n",
       "                SARIMAXTimeSeriesModel             0.882092  "
      ]
     },
     "execution_count": 481,
     "metadata": {},
     "output_type": "execute_result"
    }
   ],
   "source": [
    "pi =pd.pivot_table(data=performance, columns='distr', index=['batch', 'model'], aggfunc='mean', values='pi')\n",
    "pi"
   ]
  },
  {
   "cell_type": "code",
   "execution_count": 482,
   "metadata": {
    "ExecuteTime": {
     "end_time": "2021-07-20T08:51:31.151795Z",
     "start_time": "2021-07-20T08:51:31.124868Z"
    }
   },
   "outputs": [
    {
     "name": "stdout",
     "output_type": "stream",
     "text": [
      "\\begin{tabular}{llrrr}\n",
      "\\toprule\n",
      "                & distr &    normal &  tstud\\_finite &  tstud\\_infinite \\\\\n",
      "batch & model &           &               &                 \\\\\n",
      "\\midrule\n",
      "daily\\_7ahead & RandomForestTimeSeriesModel &  0.797033 &      0.797473 &        0.790659 \\\\\n",
      "                & SARIMAXTimeSeriesModel &  0.791597 &      0.905495 &        0.964945 \\\\\n",
      "monthly5\\_3ahead & RandomForestTimeSeriesModel &  0.766250 &      0.768333 &        0.713125 \\\\\n",
      "                & SARIMAXTimeSeriesModel &  0.730000 &      0.840132 &        0.882092 \\\\\n",
      "\\bottomrule\n",
      "\\end{tabular}\n",
      "\n"
     ]
    }
   ],
   "source": [
    "print(pi.to_latex())"
   ]
  },
  {
   "cell_type": "code",
   "execution_count": 527,
   "metadata": {
    "ExecuteTime": {
     "end_time": "2021-07-20T11:09:25.898119Z",
     "start_time": "2021-07-20T11:09:24.950221Z"
    }
   },
   "outputs": [
    {
     "data": {
      "text/plain": [
       "Text(0.8820921985815602, 0.2, '0.88')"
      ]
     },
     "execution_count": 527,
     "metadata": {},
     "output_type": "execute_result"
    },
    {
     "data": {
      "image/png": "[encoded data removed]",
      "text/plain": [
       "<Figure size 1440x864 with 4 Axes>"
      ]
     },
     "metadata": {
      "needs_background": "light"
     },
     "output_type": "display_data"
    }
   ],
   "source": [
    "batch = 'monthly5_3ahead'\n",
    "fig, axes = plt.subplots(nrows=2, ncols=2, figsize=(20, 12))\n",
    "\n",
    "subset = performance[(performance['distr']=='normal') & (performance['batch']==batch)].copy()\n",
    "subset['i'] = subset.index\n",
    "subset['theoretical'] = 0.8\n",
    "\n",
    "#import matplotlib.pyplot as plt\n",
    "ax = pd.pivot_table(subset, index='i', columns='model', values='pi').plot.kde(bw_method=0.5, title='normal', ax=axes[0][0])\n",
    "(axes[0][0]).axvline(0.8, color='grey')\n",
    "\n",
    "subset = performance[(performance['distr']=='tstud_finite') & (performance['batch']==batch)].copy()\n",
    "subset['i'] = subset.index\n",
    "subset['theoretical'] = 0.8\n",
    "\n",
    "#import matplotlib.pyplot as plt\n",
    "ax = pd.pivot_table(subset, index='i', columns='model', values='pi').plot.kde(bw_method=0.5, title='tstud_finite', ax=axes[0][1])\n",
    "(axes[0][1]).axvline(0.8, color='grey')\n",
    "\n",
    "subset = performance[(performance['distr']=='tstud_infinite') & (performance['batch']==batch)].copy()\n",
    "subset['i'] = subset.index\n",
    "subset['theoretical'] = 0.8\n",
    "\n",
    "#import matplotlib.pyplot as plt\n"
   ]
  },
  {
   "cell_type": "code",
   "execution_count": 506,
   "metadata": {
    "ExecuteTime": {
     "end_time": "2021-07-20T10:58:05.444086Z",
     "start_time": "2021-07-20T10:58:05.368289Z"
    }
   },
   "outputs": [],
   "source": [
    "subset = performance[(performance['distr'].str.contains('tstud_finite')) & (performance['batch']=='monthly5_3ahead')]\n",
    "\n",
    "est_09 = pd.pivot_table(data=subset, columns=['model'], index=['n'], aggfunc=lambda x: np.quantile(x, q=0.5), values='pi').reset_index()\n",
    "est_01 = pd.pivot_table(data=subset, columns=['model'], index=['n'], aggfunc=lambda x: np.quantile(x, q=0.5), values='pi').reset_index()"
   ]
  },
  {
   "cell_type": "code",
   "execution_count": 507,
   "metadata": {
    "ExecuteTime": {
     "end_time": "2021-07-20T10:58:06.358333Z",
     "start_time": "2021-07-20T10:58:06.055055Z"
    }
   },
   "outputs": [
    {
     "data": {
      "text/plain": [
       "<AxesSubplot:title={'center':'Parameter estimates convergence'}, xlabel='n'>"
      ]
     },
     "execution_count": 507,
     "metadata": {},
     "output_type": "execute_result"
    },
    {
     "data": {
      "image/png": "[encoded data removed]",
      "text/plain": [
       "<Figure size 720x504 with 1 Axes>"
      ]
     },
     "metadata": {
      "needs_background": "light"
     },
     "output_type": "display_data"
    }
   ],
   "source": [
    "#est_09= est_09.rename(columns={'normal': 'normal_90', 'tstud_finite': 'tstud_finite_90', 'tstud_infinite': 'tstud_infinite_90'})\n",
    "est_01= est_01.rename(columns={'RandomForestTimeSeriesModel': 'RandomForestTimeSeriesModel_10', \n",
    "                               'SARIMAXTimeSeriesModel': 'SARIMAXTimeSeriesModel_10'})\n",
    "\n",
    "est_01['parameter'] = 0.8\n",
    "\n",
    "ax = est_01.merge(est_09).plot.line(x='n', y=['RandomForestTimeSeriesModel', 'RandomForestTimeSeriesModel_10', \n",
    "                                              'SARIMAXTimeSeriesModel', 'SARIMAXTimeSeriesModel_10'], style=['-','--', '-','--'], color=['r', 'r', 'b', 'b'], title='Parameter estimates convergence', figsize=(10, 7))\n",
    "est_01.merge(est_09).plot.line(x='n', y='parameter', ax=ax, color='grey')"
   ]
  },
  {
   "cell_type": "code",
   "execution_count": 385,
   "metadata": {
    "ExecuteTime": {
     "end_time": "2021-07-19T18:21:47.675855Z",
     "start_time": "2021-07-19T18:21:47.429513Z"
    }
   },
   "outputs": [
    {
     "data": {
      "text/plain": [
       "<AxesSubplot:title={'center':'pi'}, xlabel='model'>"
      ]
     },
     "execution_count": 385,
     "metadata": {},
     "output_type": "execute_result"
    },
    {
     "data": {
      "image/png": "[encoded data removed]",
      "text/plain": [
       "<Figure size 432x288 with 1 Axes>"
      ]
     },
     "metadata": {
      "needs_background": "light"
     },
     "output_type": "display_data"
    }
   ],
   "source": [
    "performance[(performance['distr']=='normal') & (performance['batch']=='monthly5_3ahead')].boxplot(column='pi', by='model')"
   ]
  },
  {
   "cell_type": "code",
   "execution_count": 387,
   "metadata": {
    "ExecuteTime": {
     "end_time": "2021-07-19T18:22:00.648227Z",
     "start_time": "2021-07-19T18:22:00.375956Z"
    }
   },
   "outputs": [
    {
     "data": {
      "text/plain": [
       "<AxesSubplot:title={'center':'pi'}, xlabel='model'>"
      ]
     },
     "execution_count": 387,
     "metadata": {},
     "output_type": "execute_result"
    },
    {
     "data": {
      "image/png": "[encoded data removed]",
      "text/plain": [
       "<Figure size 432x288 with 1 Axes>"
      ]
     },
     "metadata": {
      "needs_background": "light"
     },
     "output_type": "display_data"
    }
   ],
   "source": [
    "performance[(performance['distr']=='tstud_finite') & (performance['batch']=='monthly5_3ahead')].boxplot(column='pi', by='model')"
   ]
  },
  {
   "cell_type": "code",
   "execution_count": 388,
   "metadata": {
    "ExecuteTime": {
     "end_time": "2021-07-19T18:22:16.807354Z",
     "start_time": "2021-07-19T18:22:16.594954Z"
    }
   },
   "outputs": [
    {
     "data": {
      "text/plain": [
       "<AxesSubplot:title={'center':'pi'}, xlabel='model'>"
      ]
     },
     "execution_count": 388,
     "metadata": {},
     "output_type": "execute_result"
    },
    {
     "data": {
      "image/png": "[encoded data removed]",
      "text/plain": [
       "<Figure size 432x288 with 1 Axes>"
      ]
     },
     "metadata": {
      "needs_background": "light"
     },
     "output_type": "display_data"
    }
   ],
   "source": [
    "performance[(performance['distr']=='tstud_infinite') & (performance['batch']=='monthly5_3ahead')].boxplot(column='pi', by='model')"
   ]
  },
  {
   "cell_type": "code",
   "execution_count": 334,
   "metadata": {
    "ExecuteTime": {
     "end_time": "2021-07-19T13:46:54.802493Z",
     "start_time": "2021-07-19T13:46:54.773600Z"
    }
   },
   "outputs": [
    {
     "data": {
      "text/html": [
       "<div>\n",
       "<style scoped>\n",
       "    .dataframe tbody tr th:only-of-type {\n",
       "        vertical-align: middle;\n",
       "    }\n",
       "\n",
       "    .dataframe tbody tr th {\n",
       "        vertical-align: top;\n",
       "    }\n",
       "\n",
       "    .dataframe thead th {\n",
       "        text-align: right;\n",
       "    }\n",
       "</style>\n",
       "<table border=\"1\" class=\"dataframe\">\n",
       "  <thead>\n",
       "    <tr style=\"text-align: right;\">\n",
       "      <th></th>\n",
       "      <th>mape</th>\n",
       "      <th>pi</th>\n",
       "      <th>fold</th>\n",
       "      <th>n</th>\n",
       "      <th>is_normal</th>\n",
       "      <th>model</th>\n",
       "      <th>id</th>\n",
       "      <th>model_details</th>\n",
       "      <th>data</th>\n",
       "      <th>distr</th>\n",
       "      <th>mc</th>\n",
       "      <th>batch</th>\n",
       "    </tr>\n",
       "  </thead>\n",
       "  <tbody>\n",
       "    <tr>\n",
       "      <th>0</th>\n",
       "      <td>0.035198</td>\n",
       "      <td>0.857143</td>\n",
       "      <td>12</td>\n",
       "      <td>707</td>\n",
       "      <td>True</td>\n",
       "      <td>RandomForestTimeSeriesModel</td>\n",
       "      <td>0</td>\n",
       "      <td>daily_7ahead</td>\n",
       "      <td>AR</td>\n",
       "      <td>normal</td>\n",
       "      <td>0</td>\n",
       "      <td>daily_7ahead</td>\n",
       "    </tr>\n",
       "    <tr>\n",
       "      <th>1</th>\n",
       "      <td>0.038322</td>\n",
       "      <td>1.000000</td>\n",
       "      <td>11</td>\n",
       "      <td>647</td>\n",
       "      <td>True</td>\n",
       "      <td>RandomForestTimeSeriesModel</td>\n",
       "      <td>0</td>\n",
       "      <td>daily_7ahead</td>\n",
       "      <td>AR</td>\n",
       "      <td>normal</td>\n",
       "      <td>0</td>\n",
       "      <td>daily_7ahead</td>\n",
       "    </tr>\n",
       "    <tr>\n",
       "      <th>2</th>\n",
       "      <td>0.060414</td>\n",
       "      <td>0.571429</td>\n",
       "      <td>10</td>\n",
       "      <td>587</td>\n",
       "      <td>True</td>\n",
       "      <td>RandomForestTimeSeriesModel</td>\n",
       "      <td>0</td>\n",
       "      <td>daily_7ahead</td>\n",
       "      <td>AR</td>\n",
       "      <td>normal</td>\n",
       "      <td>0</td>\n",
       "      <td>daily_7ahead</td>\n",
       "    </tr>\n",
       "    <tr>\n",
       "      <th>3</th>\n",
       "      <td>0.033014</td>\n",
       "      <td>1.000000</td>\n",
       "      <td>9</td>\n",
       "      <td>527</td>\n",
       "      <td>False</td>\n",
       "      <td>RandomForestTimeSeriesModel</td>\n",
       "      <td>0</td>\n",
       "      <td>daily_7ahead</td>\n",
       "      <td>AR</td>\n",
       "      <td>normal</td>\n",
       "      <td>0</td>\n",
       "      <td>daily_7ahead</td>\n",
       "    </tr>\n",
       "    <tr>\n",
       "      <th>4</th>\n",
       "      <td>0.039444</td>\n",
       "      <td>1.000000</td>\n",
       "      <td>8</td>\n",
       "      <td>467</td>\n",
       "      <td>True</td>\n",
       "      <td>RandomForestTimeSeriesModel</td>\n",
       "      <td>0</td>\n",
       "      <td>daily_7ahead</td>\n",
       "      <td>AR</td>\n",
       "      <td>normal</td>\n",
       "      <td>0</td>\n",
       "      <td>daily_7ahead</td>\n",
       "    </tr>\n",
       "  </tbody>\n",
       "</table>\n",
       "</div>"
      ],
      "text/plain": [
       "       mape        pi fold    n  is_normal                        model  id  \\\n",
       "0  0.035198  0.857143   12  707       True  RandomForestTimeSeriesModel   0   \n",
       "1  0.038322  1.000000   11  647       True  RandomForestTimeSeriesModel   0   \n",
       "2  0.060414  0.571429   10  587       True  RandomForestTimeSeriesModel   0   \n",
       "3  0.033014  1.000000    9  527      False  RandomForestTimeSeriesModel   0   \n",
       "4  0.039444  1.000000    8  467       True  RandomForestTimeSeriesModel   0   \n",
       "\n",
       "  model_details data   distr  mc         batch  \n",
       "0  daily_7ahead   AR  normal   0  daily_7ahead  \n",
       "1  daily_7ahead   AR  normal   0  daily_7ahead  \n",
       "2  daily_7ahead   AR  normal   0  daily_7ahead  \n",
       "3  daily_7ahead   AR  normal   0  daily_7ahead  \n",
       "4  daily_7ahead   AR  normal   0  daily_7ahead  "
      ]
     },
     "execution_count": 334,
     "metadata": {},
     "output_type": "execute_result"
    }
   ],
   "source": [
    "performance.head()"
   ]
  },
  {
   "cell_type": "code",
   "execution_count": 403,
   "metadata": {
    "ExecuteTime": {
     "end_time": "2021-07-19T18:56:53.893216Z",
     "start_time": "2021-07-19T18:56:53.842355Z"
    }
   },
   "outputs": [
    {
     "data": {
      "text/html": [
       "<div>\n",
       "<style scoped>\n",
       "    .dataframe tbody tr th:only-of-type {\n",
       "        vertical-align: middle;\n",
       "    }\n",
       "\n",
       "    .dataframe tbody tr th {\n",
       "        vertical-align: top;\n",
       "    }\n",
       "\n",
       "    .dataframe thead th {\n",
       "        text-align: right;\n",
       "    }\n",
       "</style>\n",
       "<table border=\"1\" class=\"dataframe\">\n",
       "  <thead>\n",
       "    <tr style=\"text-align: right;\">\n",
       "      <th></th>\n",
       "      <th>distr</th>\n",
       "      <th>normal</th>\n",
       "      <th>tstud_finite</th>\n",
       "      <th>tstud_infinite</th>\n",
       "    </tr>\n",
       "    <tr>\n",
       "      <th>batch</th>\n",
       "      <th>model</th>\n",
       "      <th></th>\n",
       "      <th></th>\n",
       "      <th></th>\n",
       "    </tr>\n",
       "  </thead>\n",
       "  <tbody>\n",
       "    <tr>\n",
       "      <th rowspan=\"2\" valign=\"top\">daily_7ahead</th>\n",
       "      <th>RandomForestTimeSeriesModel</th>\n",
       "      <td>0.900000</td>\n",
       "      <td>0.033846</td>\n",
       "      <td>0.002308</td>\n",
       "    </tr>\n",
       "    <tr>\n",
       "      <th>SARIMAXTimeSeriesModel</th>\n",
       "      <td>0.935747</td>\n",
       "      <td>0.014530</td>\n",
       "      <td>0.000000</td>\n",
       "    </tr>\n",
       "    <tr>\n",
       "      <th rowspan=\"2\" valign=\"top\">monthly5_3ahead</th>\n",
       "      <th>RandomForestTimeSeriesModel</th>\n",
       "      <td>0.837500</td>\n",
       "      <td>0.222500</td>\n",
       "      <td>0.101250</td>\n",
       "    </tr>\n",
       "    <tr>\n",
       "      <th>SARIMAXTimeSeriesModel</th>\n",
       "      <td>0.913750</td>\n",
       "      <td>0.143421</td>\n",
       "      <td>0.065824</td>\n",
       "    </tr>\n",
       "  </tbody>\n",
       "</table>\n",
       "</div>"
      ],
      "text/plain": [
       "distr                                          normal  tstud_finite  \\\n",
       "batch           model                                                 \n",
       "daily_7ahead    RandomForestTimeSeriesModel  0.900000      0.033846   \n",
       "                SARIMAXTimeSeriesModel       0.935747      0.014530   \n",
       "monthly5_3ahead RandomForestTimeSeriesModel  0.837500      0.222500   \n",
       "                SARIMAXTimeSeriesModel       0.913750      0.143421   \n",
       "\n",
       "distr                                        tstud_infinite  \n",
       "batch           model                                        \n",
       "daily_7ahead    RandomForestTimeSeriesModel        0.002308  \n",
       "                SARIMAXTimeSeriesModel             0.000000  \n",
       "monthly5_3ahead RandomForestTimeSeriesModel        0.101250  \n",
       "                SARIMAXTimeSeriesModel             0.065824  "
      ]
     },
     "execution_count": 403,
     "metadata": {},
     "output_type": "execute_result"
    }
   ],
   "source": [
    "normal = pd.pivot_table(data=performance, columns='distr', index=['batch', 'model'], aggfunc='mean', values='is_normal')\n",
    "normal"
   ]
  },
  {
   "cell_type": "code",
   "execution_count": 404,
   "metadata": {
    "ExecuteTime": {
     "end_time": "2021-07-19T18:57:02.617282Z",
     "start_time": "2021-07-19T18:57:02.587362Z"
    }
   },
   "outputs": [
    {
     "name": "stdout",
     "output_type": "stream",
     "text": [
      "\\begin{tabular}{llrrr}\n",
      "\\toprule\n",
      "                & distr &    normal &  tstud\\_finite &  tstud\\_infinite \\\\\n",
      "batch & model &           &               &                 \\\\\n",
      "\\midrule\n",
      "daily\\_7ahead & RandomForestTimeSeriesModel &  0.900000 &      0.033846 &        0.002308 \\\\\n",
      "                & SARIMAXTimeSeriesModel &  0.935747 &      0.014530 &        0.000000 \\\\\n",
      "monthly5\\_3ahead & RandomForestTimeSeriesModel &  0.837500 &      0.222500 &        0.101250 \\\\\n",
      "                & SARIMAXTimeSeriesModel &  0.913750 &      0.143421 &        0.065824 \\\\\n",
      "\\bottomrule\n",
      "\\end{tabular}\n",
      "\n"
     ]
    }
   ],
   "source": [
    "print(normal.to_latex())"
   ]
  },
  {
   "cell_type": "code",
   "execution_count": 432,
   "metadata": {
    "ExecuteTime": {
     "end_time": "2021-07-19T19:26:11.195424Z",
     "start_time": "2021-07-19T19:26:11.139575Z"
    }
   },
   "outputs": [
    {
     "data": {
      "text/html": [
       "<div>\n",
       "<style scoped>\n",
       "    .dataframe tbody tr th:only-of-type {\n",
       "        vertical-align: middle;\n",
       "    }\n",
       "\n",
       "    .dataframe tbody tr th {\n",
       "        vertical-align: top;\n",
       "    }\n",
       "\n",
       "    .dataframe thead th {\n",
       "        text-align: right;\n",
       "    }\n",
       "</style>\n",
       "<table border=\"1\" class=\"dataframe\">\n",
       "  <thead>\n",
       "    <tr style=\"text-align: right;\">\n",
       "      <th></th>\n",
       "      <th>distr</th>\n",
       "      <th>normal</th>\n",
       "      <th>tstud_finite</th>\n",
       "      <th>tstud_infinite</th>\n",
       "    </tr>\n",
       "    <tr>\n",
       "      <th>batch</th>\n",
       "      <th>model</th>\n",
       "      <th></th>\n",
       "      <th></th>\n",
       "      <th></th>\n",
       "    </tr>\n",
       "  </thead>\n",
       "  <tbody>\n",
       "    <tr>\n",
       "      <th rowspan=\"2\" valign=\"top\">daily_7ahead</th>\n",
       "      <th>RandomForestTimeSeriesModel</th>\n",
       "      <td>4.393220e-02</td>\n",
       "      <td>0.018803</td>\n",
       "      <td>2.600030e+00</td>\n",
       "    </tr>\n",
       "    <tr>\n",
       "      <th>SARIMAXTimeSeriesModel</th>\n",
       "      <td>3.675329e-02</td>\n",
       "      <td>0.014222</td>\n",
       "      <td>2.513864e+00</td>\n",
       "    </tr>\n",
       "    <tr>\n",
       "      <th rowspan=\"2\" valign=\"top\">monthly5_3ahead</th>\n",
       "      <th>RandomForestTimeSeriesModel</th>\n",
       "      <td>4.308743e-02</td>\n",
       "      <td>0.023473</td>\n",
       "      <td>2.279074e+01</td>\n",
       "    </tr>\n",
       "    <tr>\n",
       "      <th>SARIMAXTimeSeriesModel</th>\n",
       "      <td>3.508480e+11</td>\n",
       "      <td>8279.578359</td>\n",
       "      <td>3.571092e+07</td>\n",
       "    </tr>\n",
       "  </tbody>\n",
       "</table>\n",
       "</div>"
      ],
      "text/plain": [
       "distr                                              normal  tstud_finite  \\\n",
       "batch           model                                                     \n",
       "daily_7ahead    RandomForestTimeSeriesModel  4.393220e-02      0.018803   \n",
       "                SARIMAXTimeSeriesModel       3.675329e-02      0.014222   \n",
       "monthly5_3ahead RandomForestTimeSeriesModel  4.308743e-02      0.023473   \n",
       "                SARIMAXTimeSeriesModel       3.508480e+11   8279.578359   \n",
       "\n",
       "distr                                        tstud_infinite  \n",
       "batch           model                                        \n",
       "daily_7ahead    RandomForestTimeSeriesModel    2.600030e+00  \n",
       "                SARIMAXTimeSeriesModel         2.513864e+00  \n",
       "monthly5_3ahead RandomForestTimeSeriesModel    2.279074e+01  \n",
       "                SARIMAXTimeSeriesModel         3.571092e+07  "
      ]
     },
     "execution_count": 432,
     "metadata": {},
     "output_type": "execute_result"
    }
   ],
   "source": [
    "mape = pd.pivot_table(data=performance, columns='distr', index=['batch', 'model'], aggfunc='mean', values='mape')\n",
    "mape"
   ]
  },
  {
   "cell_type": "code",
   "execution_count": 441,
   "metadata": {
    "ExecuteTime": {
     "end_time": "2021-07-19T19:28:14.005746Z",
     "start_time": "2021-07-19T19:28:13.986796Z"
    }
   },
   "outputs": [
    {
     "name": "stdout",
     "output_type": "stream",
     "text": [
      "\\begin{tabular}{llrrr}\n",
      "\\toprule\n",
      "                & distr &            normal &  tstud\\_finite &  tstud\\_infinite \\\\\n",
      "batch & model &                   &               &                 \\\\\n",
      "\\midrule\n",
      "daily\\_7ahead & RandomForestTimeSeriesModel &              4.4\\% &          1.9\\% &          260.0\\% \\\\\n",
      "                & SARIMAXTimeSeriesModel &              3.7\\% &          1.4\\% &          251.4\\% \\\\\n",
      "monthly5\\_3ahead & RandomForestTimeSeriesModel &              4.3\\% &          2.3\\% &         2279.1\\% \\\\\n",
      "                & SARIMAXTimeSeriesModel & 35084803981224.3\\% &     827957.8\\% &   3571091609.3\\% \\\\\n",
      "\\bottomrule\n",
      "\\end{tabular}\n",
      "\n"
     ]
    }
   ],
   "source": [
    "print(mape.to_latex(float_format=\"{:0.1%}\".format))"
   ]
  },
  {
   "cell_type": "markdown",
   "metadata": {},
   "source": [
    "# Parameters"
   ]
  },
  {
   "cell_type": "code",
   "execution_count": 364,
   "metadata": {
    "ExecuteTime": {
     "end_time": "2021-07-19T14:14:18.014643Z",
     "start_time": "2021-07-19T14:14:17.980748Z"
    }
   },
   "outputs": [
    {
     "data": {
      "text/html": [
       "<div>\n",
       "<style scoped>\n",
       "    .dataframe tbody tr th:only-of-type {\n",
       "        vertical-align: middle;\n",
       "    }\n",
       "\n",
       "    .dataframe tbody tr th {\n",
       "        vertical-align: top;\n",
       "    }\n",
       "\n",
       "    .dataframe thead th {\n",
       "        text-align: right;\n",
       "    }\n",
       "</style>\n",
       "<table border=\"1\" class=\"dataframe\">\n",
       "  <thead>\n",
       "    <tr style=\"text-align: right;\">\n",
       "      <th></th>\n",
       "      <th>feature</th>\n",
       "      <th>impact</th>\n",
       "      <th>fold</th>\n",
       "      <th>model</th>\n",
       "      <th>n</th>\n",
       "      <th>id</th>\n",
       "      <th>model_details</th>\n",
       "      <th>data</th>\n",
       "      <th>distr</th>\n",
       "      <th>mc</th>\n",
       "      <th>batch</th>\n",
       "    </tr>\n",
       "  </thead>\n",
       "  <tbody>\n",
       "    <tr>\n",
       "      <th>0</th>\n",
       "      <td>lag_7</td>\n",
       "      <td>1.0</td>\n",
       "      <td>12</td>\n",
       "      <td>RandomForestTimeSeriesModel</td>\n",
       "      <td>707</td>\n",
       "      <td>0</td>\n",
       "      <td>daily_7ahead</td>\n",
       "      <td>AR</td>\n",
       "      <td>normal</td>\n",
       "      <td>0</td>\n",
       "      <td>daily_7ahead</td>\n",
       "    </tr>\n",
       "    <tr>\n",
       "      <th>1</th>\n",
       "      <td>lag_7</td>\n",
       "      <td>1.0</td>\n",
       "      <td>11</td>\n",
       "      <td>RandomForestTimeSeriesModel</td>\n",
       "      <td>647</td>\n",
       "      <td>0</td>\n",
       "      <td>daily_7ahead</td>\n",
       "      <td>AR</td>\n",
       "      <td>normal</td>\n",
       "      <td>0</td>\n",
       "      <td>daily_7ahead</td>\n",
       "    </tr>\n",
       "    <tr>\n",
       "      <th>2</th>\n",
       "      <td>lag_7</td>\n",
       "      <td>1.0</td>\n",
       "      <td>10</td>\n",
       "      <td>RandomForestTimeSeriesModel</td>\n",
       "      <td>587</td>\n",
       "      <td>0</td>\n",
       "      <td>daily_7ahead</td>\n",
       "      <td>AR</td>\n",
       "      <td>normal</td>\n",
       "      <td>0</td>\n",
       "      <td>daily_7ahead</td>\n",
       "    </tr>\n",
       "    <tr>\n",
       "      <th>3</th>\n",
       "      <td>lag_7</td>\n",
       "      <td>1.0</td>\n",
       "      <td>9</td>\n",
       "      <td>RandomForestTimeSeriesModel</td>\n",
       "      <td>527</td>\n",
       "      <td>0</td>\n",
       "      <td>daily_7ahead</td>\n",
       "      <td>AR</td>\n",
       "      <td>normal</td>\n",
       "      <td>0</td>\n",
       "      <td>daily_7ahead</td>\n",
       "    </tr>\n",
       "    <tr>\n",
       "      <th>4</th>\n",
       "      <td>lag_7</td>\n",
       "      <td>1.0</td>\n",
       "      <td>8</td>\n",
       "      <td>RandomForestTimeSeriesModel</td>\n",
       "      <td>467</td>\n",
       "      <td>0</td>\n",
       "      <td>daily_7ahead</td>\n",
       "      <td>AR</td>\n",
       "      <td>normal</td>\n",
       "      <td>0</td>\n",
       "      <td>daily_7ahead</td>\n",
       "    </tr>\n",
       "  </tbody>\n",
       "</table>\n",
       "</div>"
      ],
      "text/plain": [
       "  feature  impact fold                        model    n  id model_details  \\\n",
       "0   lag_7     1.0   12  RandomForestTimeSeriesModel  707   0  daily_7ahead   \n",
       "1   lag_7     1.0   11  RandomForestTimeSeriesModel  647   0  daily_7ahead   \n",
       "2   lag_7     1.0   10  RandomForestTimeSeriesModel  587   0  daily_7ahead   \n",
       "3   lag_7     1.0    9  RandomForestTimeSeriesModel  527   0  daily_7ahead   \n",
       "4   lag_7     1.0    8  RandomForestTimeSeriesModel  467   0  daily_7ahead   \n",
       "\n",
       "  data   distr  mc         batch  \n",
       "0   AR  normal   0  daily_7ahead  \n",
       "1   AR  normal   0  daily_7ahead  \n",
       "2   AR  normal   0  daily_7ahead  \n",
       "3   AR  normal   0  daily_7ahead  \n",
       "4   AR  normal   0  daily_7ahead  "
      ]
     },
     "execution_count": 364,
     "metadata": {},
     "output_type": "execute_result"
    }
   ],
   "source": [
    "features.head()"
   ]
  },
  {
   "cell_type": "code",
   "execution_count": 391,
   "metadata": {
    "ExecuteTime": {
     "end_time": "2021-07-19T18:22:54.304047Z",
     "start_time": "2021-07-19T18:22:54.197336Z"
    }
   },
   "outputs": [
    {
     "data": {
      "text/html": [
       "<div>\n",
       "<style scoped>\n",
       "    .dataframe tbody tr th:only-of-type {\n",
       "        vertical-align: middle;\n",
       "    }\n",
       "\n",
       "    .dataframe tbody tr th {\n",
       "        vertical-align: top;\n",
       "    }\n",
       "\n",
       "    .dataframe thead th {\n",
       "        text-align: right;\n",
       "    }\n",
       "</style>\n",
       "<table border=\"1\" class=\"dataframe\">\n",
       "  <thead>\n",
       "    <tr style=\"text-align: right;\">\n",
       "      <th></th>\n",
       "      <th></th>\n",
       "      <th>distr</th>\n",
       "      <th>normal</th>\n",
       "      <th>tstud_finite</th>\n",
       "      <th>tstud_infinite</th>\n",
       "    </tr>\n",
       "    <tr>\n",
       "      <th>batch</th>\n",
       "      <th>model</th>\n",
       "      <th>feature</th>\n",
       "      <th></th>\n",
       "      <th></th>\n",
       "      <th></th>\n",
       "    </tr>\n",
       "  </thead>\n",
       "  <tbody>\n",
       "    <tr>\n",
       "      <th rowspan=\"4\" valign=\"top\">daily_7ahead</th>\n",
       "      <th>RandomForestTimeSeriesModel</th>\n",
       "      <th>lag_7</th>\n",
       "      <td>1.000000</td>\n",
       "      <td>1.000000</td>\n",
       "      <td>1.000000e+00</td>\n",
       "    </tr>\n",
       "    <tr>\n",
       "      <th rowspan=\"3\" valign=\"top\">SARIMAXTimeSeriesModel</th>\n",
       "      <th>ar.S.L7</th>\n",
       "      <td>0.682626</td>\n",
       "      <td>0.678774</td>\n",
       "      <td>6.801712e-01</td>\n",
       "    </tr>\n",
       "    <tr>\n",
       "      <th>intercept</th>\n",
       "      <td>31.722948</td>\n",
       "      <td>32.103340</td>\n",
       "      <td>4.549308e+01</td>\n",
       "    </tr>\n",
       "    <tr>\n",
       "      <th>sigma2</th>\n",
       "      <td>20.399227</td>\n",
       "      <td>8.295772</td>\n",
       "      <td>1.328098e+06</td>\n",
       "    </tr>\n",
       "    <tr>\n",
       "      <th rowspan=\"11\" valign=\"top\">monthly5_3ahead</th>\n",
       "      <th rowspan=\"3\" valign=\"top\">RandomForestTimeSeriesModel</th>\n",
       "      <th>lag_3</th>\n",
       "      <td>0.432420</td>\n",
       "      <td>0.462751</td>\n",
       "      <td>4.838229e-01</td>\n",
       "    </tr>\n",
       "    <tr>\n",
       "      <th>lag_4</th>\n",
       "      <td>0.325629</td>\n",
       "      <td>0.329182</td>\n",
       "      <td>3.211551e-01</td>\n",
       "    </tr>\n",
       "    <tr>\n",
       "      <th>lag_5</th>\n",
       "      <td>0.241950</td>\n",
       "      <td>0.208067</td>\n",
       "      <td>1.950220e-01</td>\n",
       "    </tr>\n",
       "    <tr>\n",
       "      <th rowspan=\"8\" valign=\"top\">SARIMAXTimeSeriesModel</th>\n",
       "      <th>ar.L1</th>\n",
       "      <td>-0.050442</td>\n",
       "      <td>-0.047702</td>\n",
       "      <td>-5.505183e-02</td>\n",
       "    </tr>\n",
       "    <tr>\n",
       "      <th>ar.L2</th>\n",
       "      <td>-0.062228</td>\n",
       "      <td>-0.014614</td>\n",
       "      <td>-5.792200e-02</td>\n",
       "    </tr>\n",
       "    <tr>\n",
       "      <th>ar.L3</th>\n",
       "      <td>0.393017</td>\n",
       "      <td>0.420807</td>\n",
       "      <td>3.900992e-01</td>\n",
       "    </tr>\n",
       "    <tr>\n",
       "      <th>ar.L4</th>\n",
       "      <td>-0.395821</td>\n",
       "      <td>-0.413083</td>\n",
       "      <td>-3.931919e-01</td>\n",
       "    </tr>\n",
       "    <tr>\n",
       "      <th>ar.L5</th>\n",
       "      <td>-0.206895</td>\n",
       "      <td>-0.226077</td>\n",
       "      <td>-2.382361e-01</td>\n",
       "    </tr>\n",
       "    <tr>\n",
       "      <th>converedg</th>\n",
       "      <td>0.985000</td>\n",
       "      <td>0.975000</td>\n",
       "      <td>9.767287e-01</td>\n",
       "    </tr>\n",
       "    <tr>\n",
       "      <th>intercept</th>\n",
       "      <td>130.507403</td>\n",
       "      <td>125.300950</td>\n",
       "      <td>1.370745e+02</td>\n",
       "    </tr>\n",
       "    <tr>\n",
       "      <th>sigma2</th>\n",
       "      <td>5955.711062</td>\n",
       "      <td>1130.451073</td>\n",
       "      <td>2.917020e+05</td>\n",
       "    </tr>\n",
       "  </tbody>\n",
       "</table>\n",
       "</div>"
      ],
      "text/plain": [
       "distr                                                       normal  \\\n",
       "batch           model                       feature                  \n",
       "daily_7ahead    RandomForestTimeSeriesModel lag_7         1.000000   \n",
       "                SARIMAXTimeSeriesModel      ar.S.L7       0.682626   \n",
       "                                            intercept    31.722948   \n",
       "                                            sigma2       20.399227   \n",
       "monthly5_3ahead RandomForestTimeSeriesModel lag_3         0.432420   \n",
       "                                            lag_4         0.325629   \n",
       "                                            lag_5         0.241950   \n",
       "                SARIMAXTimeSeriesModel      ar.L1        -0.050442   \n",
       "                                            ar.L2        -0.062228   \n",
       "                                            ar.L3         0.393017   \n",
       "                                            ar.L4        -0.395821   \n",
       "                                            ar.L5        -0.206895   \n",
       "                                            converedg     0.985000   \n",
       "                                            intercept   130.507403   \n",
       "                                            sigma2     5955.711062   \n",
       "\n",
       "distr                                                  tstud_finite  \\\n",
       "batch           model                       feature                   \n",
       "daily_7ahead    RandomForestTimeSeriesModel lag_7          1.000000   \n",
       "                SARIMAXTimeSeriesModel      ar.S.L7        0.678774   \n",
       "                                            intercept     32.103340   \n",
       "                                            sigma2         8.295772   \n",
       "monthly5_3ahead RandomForestTimeSeriesModel lag_3          0.462751   \n",
       "                                            lag_4          0.329182   \n",
       "                                            lag_5          0.208067   \n",
       "                SARIMAXTimeSeriesModel      ar.L1         -0.047702   \n",
       "                                            ar.L2         -0.014614   \n",
       "                                            ar.L3          0.420807   \n",
       "                                            ar.L4         -0.413083   \n",
       "                                            ar.L5         -0.226077   \n",
       "                                            converedg      0.975000   \n",
       "                                            intercept    125.300950   \n",
       "                                            sigma2      1130.451073   \n",
       "\n",
       "distr                                                  tstud_infinite  \n",
       "batch           model                       feature                    \n",
       "daily_7ahead    RandomForestTimeSeriesModel lag_7        1.000000e+00  \n",
       "                SARIMAXTimeSeriesModel      ar.S.L7      6.801712e-01  \n",
       "                                            intercept    4.549308e+01  \n",
       "                                            sigma2       1.328098e+06  \n",
       "monthly5_3ahead RandomForestTimeSeriesModel lag_3        4.838229e-01  \n",
       "                                            lag_4        3.211551e-01  \n",
       "                                            lag_5        1.950220e-01  \n",
       "                SARIMAXTimeSeriesModel      ar.L1       -5.505183e-02  \n",
       "                                            ar.L2       -5.792200e-02  \n",
       "                                            ar.L3        3.900992e-01  \n",
       "                                            ar.L4       -3.931919e-01  \n",
       "                                            ar.L5       -2.382361e-01  \n",
       "                                            converedg    9.767287e-01  \n",
       "                                            intercept    1.370745e+02  \n",
       "                                            sigma2       2.917020e+05  "
      ]
     },
     "execution_count": 391,
     "metadata": {},
     "output_type": "execute_result"
    }
   ],
   "source": [
    "pd.pivot_table(data=features, columns=['distr'], index=['batch', 'model', 'feature'], aggfunc='mean', values='impact')"
   ]
  },
  {
   "cell_type": "code",
   "execution_count": 375,
   "metadata": {
    "ExecuteTime": {
     "end_time": "2021-07-19T14:26:09.142060Z",
     "start_time": "2021-07-19T14:26:09.083216Z"
    }
   },
   "outputs": [
    {
     "data": {
      "text/plain": [
       "20.999999999999982"
      ]
     },
     "execution_count": 375,
     "metadata": {},
     "output_type": "execute_result"
    }
   ],
   "source": [
    "import math\n",
    "DEGREES = 2.1\n",
    "DEGREES/(DEGREES-2)"
   ]
  },
  {
   "cell_type": "code",
   "execution_count": 376,
   "metadata": {
    "ExecuteTime": {
     "end_time": "2021-07-19T14:26:09.630753Z",
     "start_time": "2021-07-19T14:26:09.611803Z"
    }
   },
   "outputs": [],
   "source": [
    "import numpy as np"
   ]
  },
  {
   "cell_type": "code",
   "execution_count": 407,
   "metadata": {
    "ExecuteTime": {
     "end_time": "2021-07-19T19:08:38.581806Z",
     "start_time": "2021-07-19T19:08:37.954510Z"
    }
   },
   "outputs": [
    {
     "data": {
      "text/html": [
       "<div>\n",
       "<style scoped>\n",
       "    .dataframe tbody tr th:only-of-type {\n",
       "        vertical-align: middle;\n",
       "    }\n",
       "\n",
       "    .dataframe tbody tr th {\n",
       "        vertical-align: top;\n",
       "    }\n",
       "\n",
       "    .dataframe thead th {\n",
       "        text-align: right;\n",
       "    }\n",
       "</style>\n",
       "<table border=\"1\" class=\"dataframe\">\n",
       "  <thead>\n",
       "    <tr style=\"text-align: right;\">\n",
       "      <th></th>\n",
       "      <th>distr</th>\n",
       "      <th>normal</th>\n",
       "      <th>tstud_finite</th>\n",
       "      <th>tstud_infinite</th>\n",
       "    </tr>\n",
       "    <tr>\n",
       "      <th>n</th>\n",
       "      <th>mc</th>\n",
       "      <th></th>\n",
       "      <th></th>\n",
       "      <th></th>\n",
       "    </tr>\n",
       "  </thead>\n",
       "  <tbody>\n",
       "    <tr>\n",
       "      <th rowspan=\"5\" valign=\"top\">54</th>\n",
       "      <th>0</th>\n",
       "      <td>NaN</td>\n",
       "      <td>0.619030</td>\n",
       "      <td>0.664452</td>\n",
       "    </tr>\n",
       "    <tr>\n",
       "      <th>1</th>\n",
       "      <td>0.704412</td>\n",
       "      <td>NaN</td>\n",
       "      <td>0.741128</td>\n",
       "    </tr>\n",
       "    <tr>\n",
       "      <th>2</th>\n",
       "      <td>NaN</td>\n",
       "      <td>0.542484</td>\n",
       "      <td>0.828525</td>\n",
       "    </tr>\n",
       "    <tr>\n",
       "      <th>3</th>\n",
       "      <td>0.621899</td>\n",
       "      <td>0.680162</td>\n",
       "      <td>0.584982</td>\n",
       "    </tr>\n",
       "    <tr>\n",
       "      <th>4</th>\n",
       "      <td>0.396744</td>\n",
       "      <td>0.632721</td>\n",
       "      <td>0.604335</td>\n",
       "    </tr>\n",
       "    <tr>\n",
       "      <th>...</th>\n",
       "      <th>...</th>\n",
       "      <td>...</td>\n",
       "      <td>...</td>\n",
       "      <td>...</td>\n",
       "    </tr>\n",
       "    <tr>\n",
       "      <th rowspan=\"5\" valign=\"top\">721</th>\n",
       "      <th>95</th>\n",
       "      <td>0.678042</td>\n",
       "      <td>0.689084</td>\n",
       "      <td>0.694134</td>\n",
       "    </tr>\n",
       "    <tr>\n",
       "      <th>96</th>\n",
       "      <td>0.698100</td>\n",
       "      <td>0.691498</td>\n",
       "      <td>0.701590</td>\n",
       "    </tr>\n",
       "    <tr>\n",
       "      <th>97</th>\n",
       "      <td>0.738944</td>\n",
       "      <td>0.652345</td>\n",
       "      <td>0.972410</td>\n",
       "    </tr>\n",
       "    <tr>\n",
       "      <th>98</th>\n",
       "      <td>0.698491</td>\n",
       "      <td>0.675177</td>\n",
       "      <td>0.676547</td>\n",
       "    </tr>\n",
       "    <tr>\n",
       "      <th>99</th>\n",
       "      <td>NaN</td>\n",
       "      <td>0.682660</td>\n",
       "      <td>0.704131</td>\n",
       "    </tr>\n",
       "  </tbody>\n",
       "</table>\n",
       "<p>1300 rows × 3 columns</p>\n",
       "</div>"
      ],
      "text/plain": [
       "distr     normal  tstud_finite  tstud_infinite\n",
       "n   mc                                        \n",
       "54  0        NaN      0.619030        0.664452\n",
       "    1   0.704412           NaN        0.741128\n",
       "    2        NaN      0.542484        0.828525\n",
       "    3   0.621899      0.680162        0.584982\n",
       "    4   0.396744      0.632721        0.604335\n",
       "...          ...           ...             ...\n",
       "721 95  0.678042      0.689084        0.694134\n",
       "    96  0.698100      0.691498        0.701590\n",
       "    97  0.738944      0.652345        0.972410\n",
       "    98  0.698491      0.675177        0.676547\n",
       "    99       NaN      0.682660        0.704131\n",
       "\n",
       "[1300 rows x 3 columns]"
      ]
     },
     "execution_count": 407,
     "metadata": {},
     "output_type": "execute_result"
    }
   ],
   "source": [
    "subset = features[(features['model'].str.contains('SARIMAXTimeSeriesModel')) & (features['feature']=='ar.S.L7') & (features['batch']=='daily_7ahead')]\n",
    "\n",
    "pd.pivot_table(data=subset, columns=['distr'], index=['n', 'mc'], aggfunc=lambda x: np.quantile(x, q=0.5), values='impact')"
   ]
  },
  {
   "cell_type": "code",
   "execution_count": 408,
   "metadata": {
    "ExecuteTime": {
     "end_time": "2021-07-19T19:08:38.929178Z",
     "start_time": "2021-07-19T19:08:38.884786Z"
    }
   },
   "outputs": [],
   "source": [
    "est_09 = pd.pivot_table(data=subset, columns=['distr'], index=['n'], aggfunc=lambda x: np.quantile(x, q=0.9), values='impact').reset_index()\n",
    "est_01 = pd.pivot_table(data=subset, columns=['distr'], index=['n'], aggfunc=lambda x: np.quantile(x, q=0.1), values='impact').reset_index()"
   ]
  },
  {
   "cell_type": "code",
   "execution_count": 411,
   "metadata": {
    "ExecuteTime": {
     "end_time": "2021-07-19T19:10:06.791728Z",
     "start_time": "2021-07-19T19:10:06.778742Z"
    }
   },
   "outputs": [],
   "source": []
  },
  {
   "cell_type": "code",
   "execution_count": 428,
   "metadata": {
    "ExecuteTime": {
     "end_time": "2021-07-19T19:14:26.855014Z",
     "start_time": "2021-07-19T19:14:26.552952Z"
    }
   },
   "outputs": [
    {
     "data": {
      "text/plain": [
       "<AxesSubplot:title={'center':'Parameter estimates convergence'}, xlabel='n'>"
      ]
     },
     "execution_count": 428,
     "metadata": {},
     "output_type": "execute_result"
    },
    {
     "data": {
      "image/png": "[encoded data removed]",
      "text/plain": [
       "<Figure size 720x504 with 1 Axes>"
      ]
     },
     "metadata": {
      "needs_background": "light"
     },
     "output_type": "display_data"
    }
   ],
   "source": [
    "est_09= est_09.rename(columns={'normal': 'normal_90', 'tstud_finite': 'tstud_finite_90', 'tstud_infinite': 'tstud_infinite_90'})\n",
    "est_01= est_01.rename(columns={'normal': 'normal_10', 'tstud_finite': 'tstud_finite_10', 'tstud_infinite': 'tstud_infinite_10'})\n",
    "\n",
    "est_01['parameter'] = 0.7\n",
    "\n",
    "ax = est_01.merge(est_09).plot.line(x='n', y=['normal_10', 'normal_90', 'tstud_finite_10', 'tstud_finite_90', 'tstud_infinite_10', 'tstud_infinite_90'], style=['-','--', '-','--', '-','--'], color=['r', 'r', 'b', 'b', 'g', 'g'], title='Parameter estimates convergence', figsize=(10, 7))\n",
    "est_01.merge(est_09).plot.line(x='n', y='parameter', ax=ax, color='grey')"
   ]
  },
  {
   "cell_type": "code",
   "execution_count": 410,
   "metadata": {
    "ExecuteTime": {
     "end_time": "2021-07-19T19:08:41.423183Z",
     "start_time": "2021-07-19T19:08:41.155118Z"
    }
   },
   "outputs": [
    {
     "data": {
      "text/plain": [
       "<AxesSubplot:xlabel='n'>"
      ]
     },
     "execution_count": 410,
     "metadata": {},
     "output_type": "execute_result"
    },
    {
     "data": {
      "image/png": "[encoded data removed]",
      "text/plain": [
       "<Figure size 432x288 with 1 Axes>"
      ]
     },
     "metadata": {
      "needs_background": "light"
     },
     "output_type": "display_data"
    }
   ],
   "source": [
    "est_01.merge(est_09.rename(columns={'normal': 'normal_09', 'tstud_finite': 'tstud_finite_09', 'tstud_infinite': 'tstud_infinite_09'})).plot(x='n', y=['normal', 'tstud_finite', 'tstud_infinite', 'normal_09', 'tstud_finite_09', 'tstud_infinite_09'])"
   ]
  },
  {
   "cell_type": "code",
   "execution_count": null,
   "metadata": {},
   "outputs": [],
   "source": [
    "# spr krótsze dane, trzy lata miesięcznie, prognoza na miesiąc wprzód\n",
    "# jak (nie) działa zgadywanie rzędu\n",
    "# spr więcej parameterów"
   ]
  }
 ],
 "metadata": {
  "hide_input": false,
  "kernelspec": {
   "display_name": "Python 3 (ipykernel)",
   "language": "python",
   "name": "python3"
  },
  "language_info": {
   "codemirror_mode": {
    "name": "ipython",
    "version": 3
   },
   "file_extension": ".py",
   "mimetype": "text/x-python",
   "name": "python",
   "nbconvert_exporter": "python",
   "pygments_lexer": "ipython3",
   "version": "3.8.10"
  },
  "toc": {
   "base_numbering": 1,
   "nav_menu": {},
   "number_sections": true,
   "sideBar": true,
   "skip_h1_title": false,
   "title_cell": "Table of Contents",
   "title_sidebar": "Contents",
   "toc_cell": false,
   "toc_position": {},
   "toc_section_display": true,
   "toc_window_display": false
  },
  "varInspector": {
   "cols": {
    "lenName": 16,
    "lenType": 16,
    "lenVar": 40
   },
   "kernels_config": {
    "python": {
     "delete_cmd_postfix": "",
     "delete_cmd_prefix": "del ",
     "library": "var_list.py",
     "varRefreshCmd": "print(var_dic_list())"
    },
    "r": {
     "delete_cmd_postfix": ") ",
     "delete_cmd_prefix": "rm(",
     "library": "var_list.r",
     "varRefreshCmd": "cat(var_dic_list()) "
    }
   },
   "types_to_exclude": [
    "module",
    "function",
    "builtin_function_or_method",
    "instance",
    "_Feature"
   ],
   "window_display": false
  }
 },
 "nbformat": 4,
 "nbformat_minor": 1
}
