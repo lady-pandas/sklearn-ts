{
 "cells": [
  {
   "cell_type": "code",
   "execution_count": 9,
   "metadata": {
    "ExecuteTime": {
     "end_time": "2021-07-17T19:32:45.435282Z",
     "start_time": "2021-07-17T19:32:45.318595Z"
    }
   },
   "outputs": [],
   "source": [
    "import pandas as pd\n",
    "\n",
    "\n",
    "level = 0\n",
    "datasets = pd.read_parquet(f'sarima_level{level}.parquet')\n",
    "distr = datasets[['id', 'distr']].drop_duplicates()\n",
    "\n",
    "errors = pd.read_parquet('errors.parquet')\n",
    "performance = pd.read_parquet('performance.parquet')\n",
    "features = pd.read_parquet('features.parquet')"
   ]
  },
  {
   "cell_type": "code",
   "execution_count": 14,
   "metadata": {
    "ExecuteTime": {
     "end_time": "2021-07-17T19:36:01.901607Z",
     "start_time": "2021-07-17T19:36:01.876650Z"
    }
   },
   "outputs": [],
   "source": [
    "performance = performance.merge(distr, on='id', how='left')"
   ]
  },
  {
   "cell_type": "markdown",
   "metadata": {},
   "source": [
    "# Prediction intervals"
   ]
  },
  {
   "cell_type": "code",
   "execution_count": 18,
   "metadata": {
    "ExecuteTime": {
     "end_time": "2021-07-17T19:38:04.187798Z",
     "start_time": "2021-07-17T19:38:04.149900Z"
    }
   },
   "outputs": [
    {
     "data": {
      "text/html": [
       "<div>\n",
       "<style scoped>\n",
       "    .dataframe tbody tr th:only-of-type {\n",
       "        vertical-align: middle;\n",
       "    }\n",
       "\n",
       "    .dataframe tbody tr th {\n",
       "        vertical-align: top;\n",
       "    }\n",
       "\n",
       "    .dataframe thead th {\n",
       "        text-align: right;\n",
       "    }\n",
       "</style>\n",
       "<table border=\"1\" class=\"dataframe\">\n",
       "  <thead>\n",
       "    <tr style=\"text-align: right;\">\n",
       "      <th>distr</th>\n",
       "      <th>normal</th>\n",
       "      <th>tstud_finite</th>\n",
       "    </tr>\n",
       "    <tr>\n",
       "      <th>model_details</th>\n",
       "      <th></th>\n",
       "      <th></th>\n",
       "    </tr>\n",
       "  </thead>\n",
       "  <tbody>\n",
       "    <tr>\n",
       "      <th>RF</th>\n",
       "      <td>0.466154</td>\n",
       "      <td>0.576264</td>\n",
       "    </tr>\n",
       "    <tr>\n",
       "      <th>SARIMA(0,0,0)(1,0,0)7</th>\n",
       "      <td>0.792418</td>\n",
       "      <td>0.909560</td>\n",
       "    </tr>\n",
       "    <tr>\n",
       "      <th>SARIMA(1,0,0)(0,0,0)0</th>\n",
       "      <td>0.782857</td>\n",
       "      <td>0.903077</td>\n",
       "    </tr>\n",
       "  </tbody>\n",
       "</table>\n",
       "</div>"
      ],
      "text/plain": [
       "distr                    normal  tstud_finite\n",
       "model_details                                \n",
       "RF                     0.466154      0.576264\n",
       "SARIMA(0,0,0)(1,0,0)7  0.792418      0.909560\n",
       "SARIMA(1,0,0)(0,0,0)0  0.782857      0.903077"
      ]
     },
     "execution_count": 18,
     "metadata": {},
     "output_type": "execute_result"
    }
   ],
   "source": [
    "pd.pivot_table(data=performance, columns='distr', index='model_details', aggfunc='mean', values='pi')"
   ]
  },
  {
   "cell_type": "code",
   "execution_count": 16,
   "metadata": {
    "ExecuteTime": {
     "end_time": "2021-07-17T19:36:16.916306Z",
     "start_time": "2021-07-17T19:36:16.662984Z"
    }
   },
   "outputs": [
    {
     "data": {
      "text/plain": [
       "<AxesSubplot:title={'center':'pi'}, xlabel='model_details'>"
      ]
     },
     "execution_count": 16,
     "metadata": {},
     "output_type": "execute_result"
    },
    {
     "data": {
      "image/png": "[encoded data removed]",
      "text/plain": [
       "<Figure size 432x288 with 1 Axes>"
      ]
     },
     "metadata": {
      "needs_background": "light"
     },
     "output_type": "display_data"
    }
   ],
   "source": [
    "performance[performance['distr']=='normal'].boxplot(column='pi', by='model_details')"
   ]
  },
  {
   "cell_type": "code",
   "execution_count": 17,
   "metadata": {
    "ExecuteTime": {
     "end_time": "2021-07-17T19:36:30.162090Z",
     "start_time": "2021-07-17T19:36:29.916745Z"
    }
   },
   "outputs": [
    {
     "data": {
      "text/plain": [
       "<AxesSubplot:title={'center':'pi'}, xlabel='model_details'>"
      ]
     },
     "execution_count": 17,
     "metadata": {},
     "output_type": "execute_result"
    },
    {
     "data": {
      "image/png": "[encoded data removed]",
      "text/plain": [
       "<Figure size 432x288 with 1 Axes>"
      ]
     },
     "metadata": {
      "needs_background": "light"
     },
     "output_type": "display_data"
    }
   ],
   "source": [
    "performance[performance['distr']=='tstud_finite'].boxplot(column='pi', by='model_details')"
   ]
  },
  {
   "cell_type": "code",
   "execution_count": 6,
   "metadata": {
    "ExecuteTime": {
     "end_time": "2021-07-17T19:32:02.761045Z",
     "start_time": "2021-07-17T19:32:02.726139Z"
    }
   },
   "outputs": [
    {
     "data": {
      "text/html": [
       "<div>\n",
       "<style scoped>\n",
       "    .dataframe tbody tr th:only-of-type {\n",
       "        vertical-align: middle;\n",
       "    }\n",
       "\n",
       "    .dataframe tbody tr th {\n",
       "        vertical-align: top;\n",
       "    }\n",
       "\n",
       "    .dataframe thead th {\n",
       "        text-align: right;\n",
       "    }\n",
       "</style>\n",
       "<table border=\"1\" class=\"dataframe\">\n",
       "  <thead>\n",
       "    <tr style=\"text-align: right;\">\n",
       "      <th></th>\n",
       "      <th>mape</th>\n",
       "      <th>pi</th>\n",
       "      <th>fold</th>\n",
       "      <th>n</th>\n",
       "      <th>model</th>\n",
       "      <th>id</th>\n",
       "      <th>model_details</th>\n",
       "    </tr>\n",
       "    <tr>\n",
       "      <th>index</th>\n",
       "      <th></th>\n",
       "      <th></th>\n",
       "      <th></th>\n",
       "      <th></th>\n",
       "      <th></th>\n",
       "      <th></th>\n",
       "      <th></th>\n",
       "    </tr>\n",
       "  </thead>\n",
       "  <tbody>\n",
       "    <tr>\n",
       "      <th>0</th>\n",
       "      <td>1.405715</td>\n",
       "      <td>0.571429</td>\n",
       "      <td>12</td>\n",
       "      <td>714</td>\n",
       "      <td>SARIMAXTimeSeriesModel</td>\n",
       "      <td>0</td>\n",
       "      <td>SARIMA(0,0,0)(1,0,0)7</td>\n",
       "    </tr>\n",
       "    <tr>\n",
       "      <th>1</th>\n",
       "      <td>0.563950</td>\n",
       "      <td>0.714286</td>\n",
       "      <td>11</td>\n",
       "      <td>654</td>\n",
       "      <td>SARIMAXTimeSeriesModel</td>\n",
       "      <td>0</td>\n",
       "      <td>SARIMA(0,0,0)(1,0,0)7</td>\n",
       "    </tr>\n",
       "    <tr>\n",
       "      <th>2</th>\n",
       "      <td>1.551108</td>\n",
       "      <td>0.571429</td>\n",
       "      <td>10</td>\n",
       "      <td>594</td>\n",
       "      <td>SARIMAXTimeSeriesModel</td>\n",
       "      <td>0</td>\n",
       "      <td>SARIMA(0,0,0)(1,0,0)7</td>\n",
       "    </tr>\n",
       "    <tr>\n",
       "      <th>3</th>\n",
       "      <td>0.952770</td>\n",
       "      <td>0.857143</td>\n",
       "      <td>9</td>\n",
       "      <td>534</td>\n",
       "      <td>SARIMAXTimeSeriesModel</td>\n",
       "      <td>0</td>\n",
       "      <td>SARIMA(0,0,0)(1,0,0)7</td>\n",
       "    </tr>\n",
       "    <tr>\n",
       "      <th>4</th>\n",
       "      <td>0.679981</td>\n",
       "      <td>0.857143</td>\n",
       "      <td>8</td>\n",
       "      <td>474</td>\n",
       "      <td>SARIMAXTimeSeriesModel</td>\n",
       "      <td>0</td>\n",
       "      <td>SARIMA(0,0,0)(1,0,0)7</td>\n",
       "    </tr>\n",
       "  </tbody>\n",
       "</table>\n",
       "</div>"
      ],
      "text/plain": [
       "           mape        pi fold    n                   model  id  \\\n",
       "index                                                             \n",
       "0      1.405715  0.571429   12  714  SARIMAXTimeSeriesModel   0   \n",
       "1      0.563950  0.714286   11  654  SARIMAXTimeSeriesModel   0   \n",
       "2      1.551108  0.571429   10  594  SARIMAXTimeSeriesModel   0   \n",
       "3      0.952770  0.857143    9  534  SARIMAXTimeSeriesModel   0   \n",
       "4      0.679981  0.857143    8  474  SARIMAXTimeSeriesModel   0   \n",
       "\n",
       "               model_details  \n",
       "index                         \n",
       "0      SARIMA(0,0,0)(1,0,0)7  \n",
       "1      SARIMA(0,0,0)(1,0,0)7  \n",
       "2      SARIMA(0,0,0)(1,0,0)7  \n",
       "3      SARIMA(0,0,0)(1,0,0)7  \n",
       "4      SARIMA(0,0,0)(1,0,0)7  "
      ]
     },
     "execution_count": 6,
     "metadata": {},
     "output_type": "execute_result"
    }
   ],
   "source": [
    "performance.head()"
   ]
  },
  {
   "cell_type": "code",
   "execution_count": 7,
   "metadata": {
    "ExecuteTime": {
     "end_time": "2021-07-17T19:32:08.715251Z",
     "start_time": "2021-07-17T19:32:08.686331Z"
    }
   },
   "outputs": [
    {
     "data": {
      "text/html": [
       "<div>\n",
       "<style scoped>\n",
       "    .dataframe tbody tr th:only-of-type {\n",
       "        vertical-align: middle;\n",
       "    }\n",
       "\n",
       "    .dataframe tbody tr th {\n",
       "        vertical-align: top;\n",
       "    }\n",
       "\n",
       "    .dataframe thead th {\n",
       "        text-align: right;\n",
       "    }\n",
       "</style>\n",
       "<table border=\"1\" class=\"dataframe\">\n",
       "  <thead>\n",
       "    <tr style=\"text-align: right;\">\n",
       "      <th></th>\n",
       "      <th>feature</th>\n",
       "      <th>impact</th>\n",
       "      <th>fold</th>\n",
       "      <th>model</th>\n",
       "      <th>n</th>\n",
       "      <th>id</th>\n",
       "      <th>model_details</th>\n",
       "    </tr>\n",
       "    <tr>\n",
       "      <th>index</th>\n",
       "      <th></th>\n",
       "      <th></th>\n",
       "      <th></th>\n",
       "      <th></th>\n",
       "      <th></th>\n",
       "      <th></th>\n",
       "      <th></th>\n",
       "    </tr>\n",
       "  </thead>\n",
       "  <tbody>\n",
       "    <tr>\n",
       "      <th>0</th>\n",
       "      <td>ar.S.L7</td>\n",
       "      <td>0.697001</td>\n",
       "      <td>12</td>\n",
       "      <td>SARIMAXTimeSeriesModel</td>\n",
       "      <td>714</td>\n",
       "      <td>0</td>\n",
       "      <td>SARIMA(0,0,0)(1,0,0)7</td>\n",
       "    </tr>\n",
       "    <tr>\n",
       "      <th>1</th>\n",
       "      <td>sigma2</td>\n",
       "      <td>1.720989</td>\n",
       "      <td>12</td>\n",
       "      <td>SARIMAXTimeSeriesModel</td>\n",
       "      <td>714</td>\n",
       "      <td>0</td>\n",
       "      <td>SARIMA(0,0,0)(1,0,0)7</td>\n",
       "    </tr>\n",
       "    <tr>\n",
       "      <th>0</th>\n",
       "      <td>ar.S.L7</td>\n",
       "      <td>0.684885</td>\n",
       "      <td>11</td>\n",
       "      <td>SARIMAXTimeSeriesModel</td>\n",
       "      <td>654</td>\n",
       "      <td>0</td>\n",
       "      <td>SARIMA(0,0,0)(1,0,0)7</td>\n",
       "    </tr>\n",
       "    <tr>\n",
       "      <th>1</th>\n",
       "      <td>sigma2</td>\n",
       "      <td>1.767289</td>\n",
       "      <td>11</td>\n",
       "      <td>SARIMAXTimeSeriesModel</td>\n",
       "      <td>654</td>\n",
       "      <td>0</td>\n",
       "      <td>SARIMA(0,0,0)(1,0,0)7</td>\n",
       "    </tr>\n",
       "    <tr>\n",
       "      <th>0</th>\n",
       "      <td>ar.S.L7</td>\n",
       "      <td>0.691048</td>\n",
       "      <td>10</td>\n",
       "      <td>SARIMAXTimeSeriesModel</td>\n",
       "      <td>594</td>\n",
       "      <td>0</td>\n",
       "      <td>SARIMA(0,0,0)(1,0,0)7</td>\n",
       "    </tr>\n",
       "  </tbody>\n",
       "</table>\n",
       "</div>"
      ],
      "text/plain": [
       "       feature    impact fold                   model    n  id  \\\n",
       "index                                                            \n",
       "0      ar.S.L7  0.697001   12  SARIMAXTimeSeriesModel  714   0   \n",
       "1       sigma2  1.720989   12  SARIMAXTimeSeriesModel  714   0   \n",
       "0      ar.S.L7  0.684885   11  SARIMAXTimeSeriesModel  654   0   \n",
       "1       sigma2  1.767289   11  SARIMAXTimeSeriesModel  654   0   \n",
       "0      ar.S.L7  0.691048   10  SARIMAXTimeSeriesModel  594   0   \n",
       "\n",
       "               model_details  \n",
       "index                         \n",
       "0      SARIMA(0,0,0)(1,0,0)7  \n",
       "1      SARIMA(0,0,0)(1,0,0)7  \n",
       "0      SARIMA(0,0,0)(1,0,0)7  \n",
       "1      SARIMA(0,0,0)(1,0,0)7  \n",
       "0      SARIMA(0,0,0)(1,0,0)7  "
      ]
     },
     "execution_count": 7,
     "metadata": {},
     "output_type": "execute_result"
    }
   ],
   "source": [
    "features.head()"
   ]
  },
  {
   "cell_type": "markdown",
   "metadata": {},
   "source": [
    "# Parameters"
   ]
  },
  {
   "cell_type": "code",
   "execution_count": 21,
   "metadata": {
    "ExecuteTime": {
     "end_time": "2021-07-17T19:39:31.615434Z",
     "start_time": "2021-07-17T19:39:31.582522Z"
    }
   },
   "outputs": [],
   "source": [
    "features = features.merge(distr, on='id', how='left')"
   ]
  },
  {
   "cell_type": "code",
   "execution_count": 22,
   "metadata": {
    "ExecuteTime": {
     "end_time": "2021-07-17T19:39:36.963355Z",
     "start_time": "2021-07-17T19:39:36.941413Z"
    }
   },
   "outputs": [
    {
     "data": {
      "text/html": [
       "<div>\n",
       "<style scoped>\n",
       "    .dataframe tbody tr th:only-of-type {\n",
       "        vertical-align: middle;\n",
       "    }\n",
       "\n",
       "    .dataframe tbody tr th {\n",
       "        vertical-align: top;\n",
       "    }\n",
       "\n",
       "    .dataframe thead th {\n",
       "        text-align: right;\n",
       "    }\n",
       "</style>\n",
       "<table border=\"1\" class=\"dataframe\">\n",
       "  <thead>\n",
       "    <tr style=\"text-align: right;\">\n",
       "      <th></th>\n",
       "      <th>feature</th>\n",
       "      <th>impact</th>\n",
       "      <th>fold</th>\n",
       "      <th>model</th>\n",
       "      <th>n</th>\n",
       "      <th>id</th>\n",
       "      <th>model_details</th>\n",
       "      <th>distr</th>\n",
       "    </tr>\n",
       "  </thead>\n",
       "  <tbody>\n",
       "    <tr>\n",
       "      <th>0</th>\n",
       "      <td>ar.S.L7</td>\n",
       "      <td>0.697001</td>\n",
       "      <td>12</td>\n",
       "      <td>SARIMAXTimeSeriesModel</td>\n",
       "      <td>714</td>\n",
       "      <td>0</td>\n",
       "      <td>SARIMA(0,0,0)(1,0,0)7</td>\n",
       "      <td>normal</td>\n",
       "    </tr>\n",
       "    <tr>\n",
       "      <th>1</th>\n",
       "      <td>sigma2</td>\n",
       "      <td>1.720989</td>\n",
       "      <td>12</td>\n",
       "      <td>SARIMAXTimeSeriesModel</td>\n",
       "      <td>714</td>\n",
       "      <td>0</td>\n",
       "      <td>SARIMA(0,0,0)(1,0,0)7</td>\n",
       "      <td>normal</td>\n",
       "    </tr>\n",
       "    <tr>\n",
       "      <th>2</th>\n",
       "      <td>ar.S.L7</td>\n",
       "      <td>0.684885</td>\n",
       "      <td>11</td>\n",
       "      <td>SARIMAXTimeSeriesModel</td>\n",
       "      <td>654</td>\n",
       "      <td>0</td>\n",
       "      <td>SARIMA(0,0,0)(1,0,0)7</td>\n",
       "      <td>normal</td>\n",
       "    </tr>\n",
       "    <tr>\n",
       "      <th>3</th>\n",
       "      <td>sigma2</td>\n",
       "      <td>1.767289</td>\n",
       "      <td>11</td>\n",
       "      <td>SARIMAXTimeSeriesModel</td>\n",
       "      <td>654</td>\n",
       "      <td>0</td>\n",
       "      <td>SARIMA(0,0,0)(1,0,0)7</td>\n",
       "      <td>normal</td>\n",
       "    </tr>\n",
       "    <tr>\n",
       "      <th>4</th>\n",
       "      <td>ar.S.L7</td>\n",
       "      <td>0.691048</td>\n",
       "      <td>10</td>\n",
       "      <td>SARIMAXTimeSeriesModel</td>\n",
       "      <td>594</td>\n",
       "      <td>0</td>\n",
       "      <td>SARIMA(0,0,0)(1,0,0)7</td>\n",
       "      <td>normal</td>\n",
       "    </tr>\n",
       "  </tbody>\n",
       "</table>\n",
       "</div>"
      ],
      "text/plain": [
       "   feature    impact fold                   model    n  id  \\\n",
       "0  ar.S.L7  0.697001   12  SARIMAXTimeSeriesModel  714   0   \n",
       "1   sigma2  1.720989   12  SARIMAXTimeSeriesModel  714   0   \n",
       "2  ar.S.L7  0.684885   11  SARIMAXTimeSeriesModel  654   0   \n",
       "3   sigma2  1.767289   11  SARIMAXTimeSeriesModel  654   0   \n",
       "4  ar.S.L7  0.691048   10  SARIMAXTimeSeriesModel  594   0   \n",
       "\n",
       "           model_details   distr  \n",
       "0  SARIMA(0,0,0)(1,0,0)7  normal  \n",
       "1  SARIMA(0,0,0)(1,0,0)7  normal  \n",
       "2  SARIMA(0,0,0)(1,0,0)7  normal  \n",
       "3  SARIMA(0,0,0)(1,0,0)7  normal  \n",
       "4  SARIMA(0,0,0)(1,0,0)7  normal  "
      ]
     },
     "execution_count": 22,
     "metadata": {},
     "output_type": "execute_result"
    }
   ],
   "source": [
    "features.head()"
   ]
  },
  {
   "cell_type": "code",
   "execution_count": 24,
   "metadata": {
    "ExecuteTime": {
     "end_time": "2021-07-17T19:40:55.570000Z",
     "start_time": "2021-07-17T19:40:55.521127Z"
    }
   },
   "outputs": [
    {
     "data": {
      "text/html": [
       "<div>\n",
       "<style scoped>\n",
       "    .dataframe tbody tr th:only-of-type {\n",
       "        vertical-align: middle;\n",
       "    }\n",
       "\n",
       "    .dataframe tbody tr th {\n",
       "        vertical-align: top;\n",
       "    }\n",
       "\n",
       "    .dataframe thead th {\n",
       "        text-align: right;\n",
       "    }\n",
       "</style>\n",
       "<table border=\"1\" class=\"dataframe\">\n",
       "  <thead>\n",
       "    <tr style=\"text-align: right;\">\n",
       "      <th></th>\n",
       "      <th>distr</th>\n",
       "      <th>normal</th>\n",
       "      <th>tstud_finite</th>\n",
       "    </tr>\n",
       "    <tr>\n",
       "      <th>model_details</th>\n",
       "      <th>feature</th>\n",
       "      <th></th>\n",
       "      <th></th>\n",
       "    </tr>\n",
       "  </thead>\n",
       "  <tbody>\n",
       "    <tr>\n",
       "      <th>RF</th>\n",
       "      <th>lag</th>\n",
       "      <td>1.000000</td>\n",
       "      <td>1.000000</td>\n",
       "    </tr>\n",
       "    <tr>\n",
       "      <th rowspan=\"2\" valign=\"top\">SARIMA(0,0,0)(1,0,0)7</th>\n",
       "      <th>ar.S.L7</th>\n",
       "      <td>0.682227</td>\n",
       "      <td>0.685177</td>\n",
       "    </tr>\n",
       "    <tr>\n",
       "      <th>sigma2</th>\n",
       "      <td>1.869948</td>\n",
       "      <td>7.710110</td>\n",
       "    </tr>\n",
       "    <tr>\n",
       "      <th rowspan=\"8\" valign=\"top\">SARIMA(1,0,0)(0,0,0)0</th>\n",
       "      <th>ar.L1</th>\n",
       "      <td>0.002465</td>\n",
       "      <td>-0.000962</td>\n",
       "    </tr>\n",
       "    <tr>\n",
       "      <th>ar.L2</th>\n",
       "      <td>-0.007398</td>\n",
       "      <td>-0.001968</td>\n",
       "    </tr>\n",
       "    <tr>\n",
       "      <th>ar.L3</th>\n",
       "      <td>-0.003867</td>\n",
       "      <td>-0.002735</td>\n",
       "    </tr>\n",
       "    <tr>\n",
       "      <th>ar.L4</th>\n",
       "      <td>-0.000616</td>\n",
       "      <td>0.004591</td>\n",
       "    </tr>\n",
       "    <tr>\n",
       "      <th>ar.L5</th>\n",
       "      <td>-0.007451</td>\n",
       "      <td>-0.003515</td>\n",
       "    </tr>\n",
       "    <tr>\n",
       "      <th>ar.L6</th>\n",
       "      <td>-0.001993</td>\n",
       "      <td>-0.006434</td>\n",
       "    </tr>\n",
       "    <tr>\n",
       "      <th>ar.L7</th>\n",
       "      <td>0.666004</td>\n",
       "      <td>0.671125</td>\n",
       "    </tr>\n",
       "    <tr>\n",
       "      <th>sigma2</th>\n",
       "      <td>1.823479</td>\n",
       "      <td>7.583943</td>\n",
       "    </tr>\n",
       "  </tbody>\n",
       "</table>\n",
       "</div>"
      ],
      "text/plain": [
       "distr                            normal  tstud_finite\n",
       "model_details         feature                        \n",
       "RF                    lag      1.000000      1.000000\n",
       "SARIMA(0,0,0)(1,0,0)7 ar.S.L7  0.682227      0.685177\n",
       "                      sigma2   1.869948      7.710110\n",
       "SARIMA(1,0,0)(0,0,0)0 ar.L1    0.002465     -0.000962\n",
       "                      ar.L2   -0.007398     -0.001968\n",
       "                      ar.L3   -0.003867     -0.002735\n",
       "                      ar.L4   -0.000616      0.004591\n",
       "                      ar.L5   -0.007451     -0.003515\n",
       "                      ar.L6   -0.001993     -0.006434\n",
       "                      ar.L7    0.666004      0.671125\n",
       "                      sigma2   1.823479      7.583943"
      ]
     },
     "execution_count": 24,
     "metadata": {},
     "output_type": "execute_result"
    }
   ],
   "source": [
    "pd.pivot_table(data=features, columns=['distr'], index=['model_details', 'feature'], aggfunc='mean', values='impact')"
   ]
  },
  {
   "cell_type": "code",
   "execution_count": 28,
   "metadata": {
    "ExecuteTime": {
     "end_time": "2021-07-17T19:42:55.129388Z",
     "start_time": "2021-07-17T19:42:55.119415Z"
    }
   },
   "outputs": [
    {
     "data": {
      "text/plain": [
       "20.999999999999982"
      ]
     },
     "execution_count": 28,
     "metadata": {},
     "output_type": "execute_result"
    }
   ],
   "source": [
    "import math\n",
    "DEGREES = 2.1\n",
    "DEGREES/(DEGREES-2)"
   ]
  },
  {
   "cell_type": "code",
   "execution_count": null,
   "metadata": {},
   "outputs": [],
   "source": [
    "import numpy as np\n",
    "\n",
    "numpy.quantile"
   ]
  }
 ],
 "metadata": {
  "hide_input": false,
  "kernelspec": {
   "display_name": "Python 3 (ipykernel)",
   "language": "python",
   "name": "python3"
  },
  "language_info": {
   "codemirror_mode": {
    "name": "ipython",
    "version": 3
   },
   "file_extension": ".py",
   "mimetype": "text/x-python",
   "name": "python",
   "nbconvert_exporter": "python",
   "pygments_lexer": "ipython3",
   "version": "3.8.10"
  },
  "toc": {
   "base_numbering": 1,
   "nav_menu": {},
   "number_sections": true,
   "sideBar": true,
   "skip_h1_title": false,
   "title_cell": "Table of Contents",
   "title_sidebar": "Contents",
   "toc_cell": false,
   "toc_position": {},
   "toc_section_display": true,
   "toc_window_display": false
  },
  "varInspector": {
   "cols": {
    "lenName": 16,
    "lenType": 16,
    "lenVar": 40
   },
   "kernels_config": {
    "python": {
     "delete_cmd_postfix": "",
     "delete_cmd_prefix": "del ",
     "library": "var_list.py",
     "varRefreshCmd": "print(var_dic_list())"
    },
    "r": {
     "delete_cmd_postfix": ") ",
     "delete_cmd_prefix": "rm(",
     "library": "var_list.r",
     "varRefreshCmd": "cat(var_dic_list()) "
    }
   },
   "types_to_exclude": [
    "module",
    "function",
    "builtin_function_or_method",
    "instance",
    "_Feature"
   ],
   "window_display": false
  }
 },
 "nbformat": 4,
 "nbformat_minor": 1
}
